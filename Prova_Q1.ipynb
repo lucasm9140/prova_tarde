{
  "nbformat": 4,
  "nbformat_minor": 0,
  "metadata": {
    "colab": {
      "provenance": []
    },
    "kernelspec": {
      "name": "python3",
      "display_name": "Python 3"
    },
    "language_info": {
      "name": "python"
    }
  },
  "cells": [
    {
      "cell_type": "markdown",
      "source": [
        "## Prova\n",
        "\n",
        "1. Envio do algoritmo do tempo: 5 pontos\n",
        "(instrutor.romulo@gmail.com) Ok\n",
        "2. Mostrou \"aberto\" - ao abrir a boca - 4 pontos ok\n",
        "3. Mostrou \"fechado\" - ao fechar a boca - 4 pontos ok\n",
        "4. Tocou alarme - ao abrir boca - 4 pontos ok\n",
        "5. Inseriu mudanças de cores e alinhamentos - 4 pontos ok\n",
        "6. Mostra o MAR ok"
      ],
      "metadata": {
        "id": "MzrTbBqwG2VQ"
      }
    },
    {
      "cell_type": "markdown",
      "source": [
        "# 1. Algoritmo do tempo"
      ],
      "metadata": {
        "id": "Ij0xw79tOCaa"
      }
    },
    {
      "cell_type": "code",
      "source": [
        "#if ear < ear_limiar:\n",
        "                    #t_inicial = time.time() if dormindo == 0 else t_inicial\n",
        "                    #dormindo = 1\n",
        "                #if dormindo == 1 and ear >= ear_limiar:\n",
        "                   #dormindo = 0\n",
        "                #t_final = time.time()\n",
        "\n",
        "                #tempo = (t_final - t_inicial) if dormindo == 1 else 0.0\n"
      ],
      "metadata": {
        "id": "sEkXLAf3Hrf-"
      },
      "execution_count": 3,
      "outputs": []
    },
    {
      "cell_type": "markdown",
      "source": [
        "### 1º Trecho de Código"
      ],
      "metadata": {
        "id": "Ckhcug7fIbws"
      }
    },
    {
      "cell_type": "code",
      "source": [
        "#if ear < ear_limiar:\n",
        "                   # t_inicial = time.time() if dormindo == 0 else t_inicial\n",
        "                   # dormindo = 1"
      ],
      "metadata": {
        "id": "sWcg3lIDIaWN"
      },
      "execution_count": 5,
      "outputs": []
    },
    {
      "cell_type": "markdown",
      "source": [
        " - na 1ª linha faz o seguinte comando, tem uma condição com if(se) que diz se o ear for menor que o ear_limiar entra em um estado que é considerado 'dormindo', Isso pode indicar que a pessoa fechou os olhos, ou está em um estado de atividade ocular baixa, ou que está dormindo.\n",
        "\n",
        "- na 2ª a variavel t_inicial(tempo inicial) recebe um modulo com uma função time.time() Este método retorna um valor float que representa o tempo em segundos desde que foi iniciado a contagem quando fechou os olhos, mas so atribui o valor de time.time à variável t_inicial se o estado atual\n",
        "de dormindo for 0.\n",
        "\n",
        "- recebe outra condição else (senao). Se o estado de \"dormindo\" já for 1 (ou seja, a pessoa já está \"dormindo\"), a variável t_inicial não é alterada. Isso é feito pela estrutura else t_inicial, que mantém o valor de t_inicial já atribuído na primeira vez que o estado de \"dormindo\" foi ativado.\n",
        "\n",
        "- na 3ª Após a verificação do ear < ear_limiar, o código muda a variável dormindo para 1, indicando que o sistema agora considera que a pessoa está \"dormindo\"."
      ],
      "metadata": {
        "id": "590bZaehIrGM"
      }
    },
    {
      "cell_type": "markdown",
      "source": [
        "2º Trecho de Código"
      ],
      "metadata": {
        "id": "SXs2fbReK8Mn"
      }
    },
    {
      "cell_type": "code",
      "source": [
        " #if dormindo == 1 and ear >= ear_limiar:\n",
        "    #dormindo = 0\n",
        "    #t_final = time.time()\n",
        "\n",
        "    #tempo = (t_final - t_inicial) if dormindo == 1 else 0.0"
      ],
      "metadata": {
        "id": "CI5y0LLzLE0O"
      },
      "execution_count": 4,
      "outputs": []
    },
    {
      "cell_type": "markdown",
      "source": [
        "  - Na 1ª linha um condição com if (se) traz uma condição, se a variável dormindo for igual a 1 e ear maior ou igual o ear_limiar, o código verifica se a variável ear é maior ou igual a ear_limiar. Isso indica que a pessoa provavelmente \"acordou\", ou seus olhos voltaram a uma posição ativa.\n",
        "\n",
        "  - Na 2ª linha quando a pessoa acorda, abre os olhos a variável dormindo muda para 0, que significa que não está mais dormindo.\n",
        "\n",
        "  - Na 3ª linha t_final(variável tempo final) recebe o tempo que permaneceu com os olhos fechados, ou seja dormindo.\n",
        "\n",
        "  - Na 4ª linha o código calcula o tempo que a pessoa passou com os olhos fechados ou seja \"dormindo\". Se o estado dos olhos fechados a variável dormindo ainda for 1 (a pessoa está com os olhos fechados no caso \"dormindo\"), essa linha calcula a diferença entre t_final(tempo final) e t_inicial(tempo inicial) para obter o tempo total em segundos.\n",
        "  Se o estado de dormindo for 0 (a pessoa já acordou), o tempo é definido como 0.0, já que o evento de \"dormindo\" foi interrompido."
      ],
      "metadata": {
        "id": "V9jsPXWOLuPU"
      }
    }
  ]
}